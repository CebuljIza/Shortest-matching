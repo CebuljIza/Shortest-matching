{
 "cells": [
  {
   "cell_type": "code",
   "execution_count": 17,
   "metadata": {
    "collapsed": false
   },
   "outputs": [
   ],
   "source": [
    "def clp(G):\n",
    "    # G je izbran graf na katerem so razdalje med vozlišči cene povezav\n",
    "    p = MixedIntegerLinearProgram(maximization = False)\n",
    "    b = p.new_variable(binary = True)\n",
    "    p.set_objective(sum([b[Set(e)] for e in G.edges(labels = True)]))\n",
    "\n",
    "    for v in G:\n",
    "        edges = G.edges_incident(v, labels = True)\n",
    "        p.add_constraint( sum([b[Set(e)] for e in edges]) == 1 )\n",
    "\n",
    "    p.solve()\n",
    "    b = p.get_values(b)\n",
    "    x = [e for e,i in b.items() if i]\n",
    "    z = []\n",
    "    for i in x:\n",
    "        for j in i:\n",
    "            z.append(j)\n",
    "\n",
    "    w = [Integer for Integer in z]\n",
    "    rezultat = [i for i in w if type(i) != tuple]\n",
    "\n",
    "    return sum(rezultat)"
   ]
  },
  {
   "cell_type": "code",
   "execution_count": 18,
   "metadata": {
    "collapsed": false
   },
   "outputs": [
   ],
   "source": [
    "def graf_kvadrat(n):\n",
    "    # generiramo graf G z 2n vozlišči, ki so izbrana naključno v enotskem kvadratu\n",
    "    # razdalje med vozlišči so cene povezav\n",
    "    tocke = [[] for _ in range(2*n)]\n",
    "    for i in range(2*n):\n",
    "        tocke[i] = (numerical_approx(sage.misc.prandom.uniform(0,1),digits=2),\n",
    "                    numerical_approx(sage.misc.prandom.uniform(0,1),digits=2))\n",
    "\n",
    "    G = Graph([tocke, lambda u,v: (vector(RDF, u)-vector(RDF, v)).norm() <= 3])\n",
    "    G.remove_loops(vertices=None)\n",
    "\n",
    "    for u,v in G.edges(labels=0):\n",
    "        G.set_edge_label(u, v, numerical_approx((vector(RDF, u)-vector(RDF, v)).norm(),digits=2))\n",
    "    \n",
    "    return G"
   ]
  },
  {
   "cell_type": "code",
   "execution_count": 19,
   "metadata": {
    "collapsed": false
   },
   "outputs": [
   ],
   "source": [
    "def graf_krog(n):\n",
    "    # generiramo graf G z 2n vozlišči, ki so izbrana naključno v enotskem krogu\n",
    "    # razdalje med vozlišči so cene povezav\n",
    "    tocke = [[] for _ in range(2*n)]\n",
    "    for i in range(2*n):\n",
    "        x = sin(sage.misc.prandom.uniform(0,2 * pi))\n",
    "        y = sage.misc.prandom.uniform(-sqrt(1 - x^2), sqrt(1 - x^2))\n",
    "        tocke[i] = (numerical_approx(x,digits=2), numerical_approx(y,digits=2))\n",
    "    H = Graph([tocke, lambda u,v: (vector(RDF, u)-vector(RDF, v)).norm() <= 3])\n",
    "    H.remove_loops(vertices=None)\n",
    "\n",
    "    for u,v in H.edges(labels=0):\n",
    "        H.set_edge_label(u, v, numerical_approx((vector(RDF, u)-vector(RDF, v)).norm(),digits=2))\n",
    "    \n",
    "    return H"
   ]
  },
  {
   "cell_type": "code",
   "execution_count": 20,
   "metadata": {
    "collapsed": false
   },
   "outputs": [
   ],
   "source": [
    "def graf_enakostr_trikotnik(n):\n",
    "    # generiramo graf G z 2n vozlišči, ki so izbrana naključno v enakostraničnem trikotniku\n",
    "    # razdalje med vozlišči so cene povezav\n",
    "    tocke = [[] for _ in range(2*n)]\n",
    "    for i in range(2*n):\n",
    "        x = sage.misc.prandom.uniform(-1/2, 1/2)\n",
    "        y = sage.misc.prandom.uniform(0, (sqrt(3)/2 - sqrt(3)* abs(x)))  \n",
    "        tocke[i] = (numerical_approx(x,digits=2), numerical_approx(y,digits=2))\n",
    "    H = Graph([tocke, lambda u,v: (vector(RDF, u)-vector(RDF, v)).norm() <= 3])\n",
    "    H.remove_loops(vertices=None)\n",
    "\n",
    "    for u,v in H.edges(labels=0):\n",
    "        H.set_edge_label(u, v, numerical_approx((vector(RDF, u)-vector(RDF, v)).norm(),digits=2))\n",
    "    \n",
    "    return H"
   ]
  },
  {
   "cell_type": "code",
   "execution_count": 21,
   "metadata": {
    "collapsed": false
   },
   "outputs": [
   ],
   "source": [
    "def vec_ponovitev(n, lik, stevilo_ponovitev):\n",
    "    q = []\n",
    "    for i in range(stevilo_ponovitev):\n",
    "        q.append(clp(lik(n)))\n",
    "    return print(mean(q))"
   ]
  },
  {
   "cell_type": "code",
   "execution_count": 23,
   "metadata": {
    "collapsed": false
   },
   "outputs": [
    {
     "name": "stderr",
     "output_type": "stream",
     "text": [
      "/tmp/ipykernel_1922/3105425855.py:12: DeprecationWarning: parameter 'sort' will be set to False by default in the future\n",
      "See https://trac.sagemath.org/27408 for details.\n",
      "  for u,v in G.edges(labels=Integer(0)):\n",
      "/tmp/ipykernel_1922/4230994896.py:5: DeprecationWarning: parameter 'sort' will be set to False by default in the future\n",
      "See https://trac.sagemath.org/27408 for details.\n",
      "  p.set_objective(sum([b[Set(e)] for e in G.edges(labels = True)]))\n",
      "/tmp/ipykernel_1922/2987702327.py:5: DeprecationWarning: sage.stats.basic_stats.mean is deprecated; use numpy.mean or numpy.nanmean instead\n",
      "See https://trac.sagemath.org/29662 for details.\n",
      "  return print(mean(q))\n"
     ]
    },
    {
     "name": "stdout",
     "output_type": "stream",
     "text": [
      "0.96\n"
     ]
    },
    {
     "name": "stdout",
     "output_type": "stream",
     "text": [
      "1.2\n",
      "1.5\n"
     ]
    },
    {
     "name": "stdout",
     "output_type": "stream",
     "text": [
      "1.9\n"
     ]
    }
   ],
   "source": [
    "vec_ponovitev(2, graf_kvadrat, 30)\n",
    "vec_ponovitev(3, graf_kvadrat, 30)\n",
    "vec_ponovitev(4, graf_kvadrat, 30)\n",
    "vec_ponovitev(5, graf_kvadrat, 30)\n"
   ]
  },
  {
   "cell_type": "code",
   "execution_count": 24,
   "metadata": {
    "collapsed": false
   },
   "outputs": [
    {
     "name": "stderr",
     "output_type": "stream",
     "text": [
      "/tmp/ipykernel_1922/2150558289.py:12: DeprecationWarning: parameter 'sort' will be set to False by default in the future\n",
      "See https://trac.sagemath.org/27408 for details.\n",
      "  for u,v in H.edges(labels=Integer(0)):\n",
      "/tmp/ipykernel_1922/4230994896.py:5: DeprecationWarning: parameter 'sort' will be set to False by default in the future\n",
      "See https://trac.sagemath.org/27408 for details.\n",
      "  p.set_objective(sum([b[Set(e)] for e in G.edges(labels = True)]))\n",
      "/tmp/ipykernel_1922/2987702327.py:5: DeprecationWarning: sage.stats.basic_stats.mean is deprecated; use numpy.mean or numpy.nanmean instead\n",
      "See https://trac.sagemath.org/29662 for details.\n",
      "  return print(mean(q))\n"
     ]
    },
    {
     "name": "stdout",
     "output_type": "stream",
     "text": [
      "1.7\n"
     ]
    },
    {
     "name": "stdout",
     "output_type": "stream",
     "text": [
      "1.9\n"
     ]
    },
    {
     "name": "stdout",
     "output_type": "stream",
     "text": [
      "2.3\n"
     ]
    }
   ],
   "source": [
    "vec_ponovitev(2, graf_krog, 30)\n",
    "vec_ponovitev(3, graf_krog, 30)\n",
    "vec_ponovitev(4, graf_krog, 30)\n"
   ]
  },
  {
   "cell_type": "code",
   "execution_count": 25,
   "metadata": {
    "collapsed": false
   },
   "outputs": [
    {
     "name": "stderr",
     "output_type": "stream",
     "text": [
      "/tmp/ipykernel_1922/4234706087.py:12: DeprecationWarning: parameter 'sort' will be set to False by default in the future\n",
      "See https://trac.sagemath.org/27408 for details.\n",
      "  for u,v in H.edges(labels=Integer(0)):\n",
      "/tmp/ipykernel_1922/4230994896.py:5: DeprecationWarning: parameter 'sort' will be set to False by default in the future\n",
      "See https://trac.sagemath.org/27408 for details.\n",
      "  p.set_objective(sum([b[Set(e)] for e in G.edges(labels = True)]))\n"
     ]
    },
    {
     "name": "stdout",
     "output_type": "stream",
     "text": [
      "0.65\n"
     ]
    },
    {
     "name": "stdout",
     "output_type": "stream",
     "text": [
      "0.84\n"
     ]
    },
    {
     "name": "stdout",
     "output_type": "stream",
     "text": [
      "0.89\n"
     ]
    },
    {
     "name": "stderr",
     "output_type": "stream",
     "text": [
      "/tmp/ipykernel_1922/2987702327.py:5: DeprecationWarning: sage.stats.basic_stats.mean is deprecated; use numpy.mean or numpy.nanmean instead\n",
      "See https://trac.sagemath.org/29662 for details.\n",
      "  return print(mean(q))\n"
     ]
    }
   ],
   "source": [
    "vec_ponovitev(2, graf_enakostr_trikotnik, 30)\n",
    "vec_ponovitev(3, graf_enakostr_trikotnik, 30)\n",
    "vec_ponovitev(4, graf_enakostr_trikotnik, 30)\n"
   ]
  },
  {
   "cell_type": "code",
   "execution_count": 0,
   "metadata": {
    "collapsed": false
   },
   "outputs": [
   ],
   "source": [
   ]
  },
  {
   "cell_type": "code",
   "execution_count": 0,
   "metadata": {
    "collapsed": false
   },
   "outputs": [
   ],
   "source": [
   ]
  }
 ],
 "metadata": {
  "kernelspec": {
   "display_name": "SageMath 9.7",
   "language": "sagemath",
   "metadata": {
    "cocalc": {
     "description": "Open-source mathematical software system",
     "priority": 10,
     "url": "https://www.sagemath.org/"
    }
   },
   "name": "sage-9.7",
   "resource_dir": "/ext/jupyter/kernels/sage-9.7"
  }
 },
 "nbformat": 4,
 "nbformat_minor": 4
}