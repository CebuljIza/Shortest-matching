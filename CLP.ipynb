{
 "cells": [
  {
   "cell_type": "code",
   "execution_count": null,
   "metadata": {
    "collapsed": false
   },
   "outputs": [],
   "source": [
    "import time\n",
    "import csv"
   ]
  },
  {
   "cell_type": "code",
   "execution_count": 14,
   "metadata": {
    "collapsed": false
   },
   "outputs": [],
   "source": [
    "def generiranje_tock_kvadrat(n):\n",
    "    # funkcija naključno generira 2n točk v enotskem kvadratu\n",
    "\n",
    "    V = RDF^2 # vektorski prostor R^2\n",
    "    tocke = [V.random_element(min=0, max=1) for _ in range(2*n)]\n",
    "    return tocke"
   ]
  },
  {
   "cell_type": "code",
   "execution_count": 78,
   "metadata": {
    "collapsed": false
   },
   "outputs": [],
   "source": [
    "def generiranje_tock_krog(n):\n",
    "    # funkcija naključno generira 2n točk v enotskem krogu\n",
    "\n",
    "    V = RDF^2 # vektorski prostor R^2\n",
    "    tocke = []\n",
    "    while len(tocke) < 2*n:\n",
    "        x = V.random_element(min=-1, max=1)\n",
    "        if x.norm() <= 1:\n",
    "            tocke.append(x)\n",
    "    return tocke"
   ]
  },
  {
   "cell_type": "code",
   "execution_count": 16,
   "metadata": {
    "collapsed": false
   },
   "outputs": [],
   "source": [
    "def generiranje_tock_enakostranicni_trikotnik(n):\n",
    "    # funkcija naključno generira 2n točk v enakostraničnem trikotniku\n",
    "\n",
    "    V = RDF^2 # vektorski prostor R^2\n",
    "    A = Matrix([[1, 1/2], [0, sqrt(3)/2]]) # linearna preslikava\n",
    "    b = V([1/2, sqrt(3)/6]) # premik, da bo središče trikotnika v izhodišču\n",
    "    ee = V([1, 1]) # vektor za preslikovanje pod x+y = 1\n",
    "\n",
    "    tocke = [A*(v if sum(v) < 1 else ee-v) - b for _ in range(2*n) for v in [V.random_element(min=0, max=1)]]\n",
    "    return tocke"
   ]
  },
  {
   "cell_type": "code",
   "execution_count": 17,
   "metadata": {
    "collapsed": false
   },
   "outputs": [],
   "source": [
    "def graf(n, generiranje_tock, norma=2):\n",
    "    # funkcija iz naključno generiranih točk ustvari poln graf\n",
    "\n",
    "    tocke = generiranje_tock(n)\n",
    "    G = graphs.CompleteGraph(len(tocke))\n",
    "\n",
    "    for u, v in G.edges(labels=False, sort = False):\n",
    "        G.set_edge_label(u, v, (tocke[u] - tocke[v]).norm(norma)) # uteži na povezavah so odvisne od razdalj med točkami\n",
    "    return G"
   ]
  },
  {
   "cell_type": "code",
   "execution_count": 18,
   "metadata": {
    "collapsed": false
   },
   "outputs": [],
   "source": [
    "def dvobarven_graf(n, generiranje_tock, norma=2):\n",
    "    # funkcija iz naključno generiranih točk ustvari poln dvodelni graf\n",
    "\n",
    "    tocke = generiranje_tock(n)\n",
    "    G = graphs.CompleteBipartiteGraph(n, n)\n",
    "\n",
    "    for u, v in G.edges(labels=False, sort = False):\n",
    "        G.set_edge_label(u, v, (tocke[u] - tocke[v]).norm(norma)) # uteži na povezavah so odvisne od razdalj med točkami\n",
    "\n",
    "    return G"
   ]
  },
  {
   "cell_type": "code",
   "execution_count": 19,
   "metadata": {
    "collapsed": false
   },
   "outputs": [],
   "source": [
    "def graf_izris(G):\n",
    "    # funkcija nariše graf G\n",
    "\n",
    "    H = Graph([(*e, N(w, digits=2)) for *e, w in G.edges(labels=True, sort = False)])\n",
    "    H.set_pos(G.get_pos())\n",
    "\n",
    "    return H.plot(edge_labels=True)"
   ]
  },
  {
   "cell_type": "code",
   "execution_count": 20,
   "metadata": {
    "collapsed": false
   },
   "outputs": [],
   "source": [
    "def clp(G):\n",
    "    # funkcija izpiše pare vozlišč med katerimi so povezave v najcenejšem prirejanju M, vsoto cen povezav in nariše graf\n",
    "\n",
    "    p = MixedIntegerLinearProgram(maximization=False)\n",
    "    b = p.new_variable(binary=True)\n",
    "    p.set_objective(sum([w * b[Set(e)] for *e, w in G.edges(labels=True, sort = False)])) # upoštevamo uteži povezav\n",
    "\n",
    "    for v in G: # tukaj nas uteži ne zanimajo\n",
    "        p.add_constraint(sum([b[Set(e)] for e in G.edges_incident(v, labels=False)]) == 1)\n",
    "\n",
    "    cena = p.solve() # vrne vrednost ciljne funkcije\n",
    "    b = p.get_values(b)\n",
    "\n",
    "    M = [tuple(e) for e, i in b.items() if i]\n",
    "    print(M)\n",
    "\n",
    "    # vrne cene povezav v M\n",
    "    x = [w for *e, w in G.edges(sort = False) if tuple(e) in M] # seznam cen povezav v M\n",
    "    print(sum(x))\n",
    "\n",
    "    # izrisovanje\n",
    "    H = Graph([(*e, N(w, digits=2)) for *e, w in G.edges(labels=True, sort = False)])\n",
    "    H.set_pos(G.get_pos())\n",
    "\n",
    "    return H.plot(edge_colors={\"red\": M}, edge_labels=True) # graf H z rdeče pobarvanimi povezavami iz prirejanja"
   ]
  },
  {
   "cell_type": "code",
   "execution_count": 21,
   "metadata": {
    "collapsed": false
   },
   "outputs": [],
   "source": [
    "def clp_vsota_in_cas(G):\n",
    "    # funkcija reši clp in vrne minimalno vsoto ter čas ki ga porabi za reševanje clp\n",
    "    p = MixedIntegerLinearProgram(maximization=False)\n",
    "    b = p.new_variable(binary=True)\n",
    "    p.set_objective(sum([w * b[Set(e)] for *e, w in G.edges(labels=True, sort = False)])) # upoštevamo uteži povezav\n",
    "\n",
    "    start = time.time()\n",
    "    for v in G: # tukaj nas uteži ne zanimajo\n",
    "        p.add_constraint(sum([b[Set(e)] for e in G.edges_incident(v, labels=False)]) == 1)\n",
    "\n",
    "    cena = p.solve() # vrne vrednost ciljne funkcije\n",
    "    end = time.time()\n",
    "\n",
    "    b = p.get_values(b)\n",
    "\n",
    "    M = [tuple(e) for e, i in b.items() if i]\n",
    "\n",
    "    # vrne cene povezav v M\n",
    "    x = [w for *e, w in G.edges(sort = False) if tuple(e) in M] # seznam cen povezav v M\n",
    "\n",
    "    return sum(x), end-start"
   ]
  },
  {
   "cell_type": "code",
   "execution_count": 22,
   "metadata": {
    "collapsed": false
   },
   "outputs": [],
   "source": [
    "def vec_ponovitev(n, lik, stevilo_ponovitev, graf=graf, norma=2):\n",
    "    q = []\n",
    "    for i in range(stevilo_ponovitev):\n",
    "        q.append(clp_vsota_in_cas(graf(n, lik, norma))[0])\n",
    "    return q"
   ]
  },
  {
   "cell_type": "code",
   "execution_count": 23,
   "metadata": {
    "collapsed": false
   },
   "outputs": [],
   "source": [
    "def casovna_zahtevnost(n, lik, stevilo_ponovitev, graf=graf, norma=2):\n",
    "    cas = []\n",
    "    for i in range(stevilo_ponovitev):\n",
    "        cas.append(clp_vsota_in_cas(graf(n, lik, norma))[1])\n",
    "    return cas"
   ]
  },
  {
   "cell_type": "code",
   "execution_count": 43,
   "metadata": {
    "collapsed": false
   },
   "outputs": [],
   "source": [
    "def zapis_podatkov(m, n, lik, stevilo_ponovitev, naslov, graf=graf, norma=2):\n",
    "    podatki = []\n",
    "    for i in range(m,n+1):\n",
    "        podatki.append(vec_ponovitev(i, lik, stevilo_ponovitev, graf, norma))\n",
    "    C = podatki\n",
    "    with open(naslov, 'w') as f:\n",
    "        c = csv.writer(f)\n",
    "        c.writerows(C)"
   ]
  },
  {
   "cell_type": "code",
   "execution_count": 73,
   "metadata": {
    "collapsed": false
   },
   "outputs": [],
   "source": [
    "def zapis_podatkov_cas(m, n, lik, stevilo_ponovitev, naslov, graf=graf, norma=2):\n",
    "    podatki = []\n",
    "    for i in range(m,n+1):\n",
    "        podatki.append(casovna_zahtevnost(i, lik, stevilo_ponovitev, graf, norma))\n",
    "    C = podatki\n",
    "    with open(naslov, 'w') as f:\n",
    "        c = csv.writer(f)\n",
    "        c.writerows(C)"
   ]
  },
  {
   "cell_type": "code",
   "execution_count": 74,
   "metadata": {
    "collapsed": false
   },
   "outputs": [],
   "source": [
    "# minimalne vsote za različne n v navadnem polnem grafu in dvodelnem polnem grafu\n",
    "zapis_podatkov(1, 40, generiranje_tock_kvadrat, 10, 'n_od_1_do_40_vsota')\n",
    "zapis_podatkov(1, 40, generiranje_tock_kvadrat, 10, 'n_od_1_do_40_vsota_dvodelni_graf', dvobarven_graf)"
   ]
  },
  {
   "cell_type": "code",
   "execution_count": null,
   "metadata": {
    "collapsed": false
   },
   "outputs": [],
   "source": [
    "# časovna zahtevnost za različne n v navadnem polnem grafu in dvodelnem polnem grafu\n",
    "zapis_podatkov_cas(1, 40, generiranje_tock_kvadrat, 10, 'n_od_1_do_40_cas')\n",
    "zapis_podatkov_cas(1, 40, generiranje_tock_kvadrat, 10, 'n_od_1_do_40_cas_dvodelni_graf', dvobarven_graf)"
   ]
  },
  {
   "cell_type": "code",
   "execution_count": 79,
   "metadata": {
    "collapsed": false
   },
   "outputs": [],
   "source": [
    "# primerjava po območjih izbire točk: enotski kvadrat, enotski krog, enakostranični trikotnik\n",
    "zapis_podatkov(1, 10, generiranje_tock_kvadrat, 50, 'n_od_1_do_10_primerjava_liki_kvadrat')\n",
    "zapis_podatkov(1, 10, generiranje_tock_krog, 50, 'n_od_1_do_10_primerjava_liki_krog')\n",
    "zapis_podatkov(1, 10, generiranje_tock_enakostranicni_trikotnik, 50, 'n_od_1_do_10_primerjava_liki_enakostranicni_trikotnik')"
   ]
  },
  {
   "cell_type": "code",
   "execution_count": 81,
   "metadata": {
    "collapsed": false
   },
   "outputs": [],
   "source": [
    "# primerjava po območjih izbire točk dvodelni graf\n",
    "zapis_podatkov(1, 10, generiranje_tock_kvadrat, 50, 'n_od_1_do_10_primerjava_liki_dvodelni_graf_kvadrat', dvobarven_graf)\n",
    "zapis_podatkov(1, 10, generiranje_tock_krog, 50, 'n_od_1_do_10_primerjava_liki_dvodelni_graf_krog', dvobarven_graf)\n",
    "zapis_podatkov(1, 10, generiranje_tock_enakostranicni_trikotnik, 50, 'n_od_1_do_10_primerjava_liki_dvodelni_graf_enakostranicni_trikotnik', dvobarven_graf)"
   ]
  },
  {
   "cell_type": "code",
   "execution_count": 80,
   "metadata": {
    "collapsed": false
   },
   "outputs": [],
   "source": [
    "# primerjava po normah\n",
    "zapis_podatkov(1,10, generiranje_tock_kvadrat, 50, 'n_od_1_do_10_primerjava_norme_1', graf, 1)\n",
    "zapis_podatkov(1,10, generiranje_tock_kvadrat, 50, 'n_od_1_do_10_primerjava_norme_2', graf, 2)\n",
    "zapis_podatkov(1,10, generiranje_tock_kvadrat, 50, 'n_od_1_do_10_primerjava_norme_Inf', graf, Infinity)"
   ]
  },
  {
   "cell_type": "code",
   "execution_count": null,
   "metadata": {},
   "outputs": [],
   "source": [
    "# natančnejši izračun pričakovane vrednosti (500 ponovitev) za n=3,4,5, kvadrat, poln graf, 2-norma\n",
    "zapis_podatkov(3,5, generiranje_tock_kvadrat, 500, 'n_od_3_do_5_vsota')"
   ]
  },
  {
   "cell_type": "code",
   "execution_count": null,
   "metadata": {
    "collapsed": false
   },
   "outputs": [],
   "source": [
    "zapis_podatkov(100, 100, generiranje_tock_kvadrat, 20, 'n_je_100_vsota')\n",
    "zapis_podatkov(1000, 1000, generiranje_tock_kvadrat, 20, 'n_je_1000_vsota')\n",
    "zapis_podatkov(10000, 10000, generiranje_tock_kvadrat, 20, 'n_je_10000_vsota')\n",
    "\n",
    "zapis_podatkov(100, 100, generiranje_tock_kvadrat, 20, 'n_je_100_vsota_dvodelni_graf', dvobarven_graf)\n",
    "zapis_podatkov(1000, 1000, generiranje_tock_kvadrat, 20, 'n_je_1000_vsota_dvodelni_graf', dvobarven_graf)\n",
    "zapis_podatkov(10000, 10000, generiranje_tock_kvadrat, 20, 'n_je_10000_vsota_dvodelni_graf', dvobarven_graf)\n",
    "\n",
    "zapis_podatkov_cas(100, 100, generiranje_tock_kvadrat, 20, 'n_je_100_cas')\n",
    "zapis_podatkov_cas(1000, 1000, generiranje_tock_kvadrat, 20, 'n_je_1000_cas')\n",
    "zapis_podatkov_cas(10000, 10000, generiranje_tock_kvadrat, 20, 'n_je_10000_cas')\n",
    "\n",
    "\n",
    "zapis_podatkov_cas(100, 100, generiranje_tock_kvadrat, 20, 'n_je_100_cas_dvodelni_graf', dvobarven_graf)\n",
    "zapis_podatkov_cas(1000, 1000, generiranje_tock_kvadrat, 20, 'n_je_1000_cas_dvodelni_graf', dvobarven_graf)\n",
    "zapis_podatkov_cas(10000, 10000, generiranje_tock_kvadrat, 20, 'n_je_10000_cas_dvodelni_graf', dvobarven_graf)"
   ]
  }
 ],
 "metadata": {
  "kernelspec": {
   "display_name": "Python 3",
   "language": "python",
   "name": "python3"
  },
  "language_info": {
   "codemirror_mode": {
    "name": "ipython",
    "version": 3
   },
   "file_extension": ".py",
   "mimetype": "text/x-python",
   "name": "python",
   "nbconvert_exporter": "python",
   "pygments_lexer": "ipython3",
   "version": "3.9.1 (tags/v3.9.1:1e5d33e, Dec  7 2020, 17:08:21) [MSC v.1927 64 bit (AMD64)]"
  },
  "vscode": {
   "interpreter": {
    "hash": "a016757c60aa8b10cd0a6bd83e5d40eced48b4fafa38d9ba76597db3cfb4c74c"
   }
  }
 },
 "nbformat": 4,
 "nbformat_minor": 4
}
