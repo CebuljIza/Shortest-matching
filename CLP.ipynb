{
 "cells": [
  {
   "cell_type": "code",
   "execution_count": 1,
   "metadata": {
    "collapsed": false
   },
   "outputs": [
   ],
   "source": [
    "import time\n",
    "import csv"
   ]
  },
  {
   "cell_type": "code",
   "execution_count": 2,
   "metadata": {
    "collapsed": false
   },
   "outputs": [
   ],
   "source": [
    "def generiranje_tock_kvadrat(n):\n",
    "    # funkcija naključno generira 2n točk v enotskem kvadratu\n",
    "\n",
    "    V = RDF^2 # vektorski prostor R^2\n",
    "    tocke = [V.random_element(min=0, max=1) for _ in range(2*n)]\n",
    "    return tocke"
   ]
  },
  {
   "cell_type": "code",
   "execution_count": 3,
   "metadata": {
    "collapsed": false
   },
   "outputs": [
   ],
   "source": [
    "def generiranje_tock_krog(n):\n",
    "    # funkcija naključno generira 2n točk v enotskem krogu\n",
    "\n",
    "    V = RDF^2 # vektorski prostor R^2\n",
    "    tocke = []\n",
    "    while len(tocke) < 2*n:\n",
    "        x = V.random_element(min=-1, max=1)\n",
    "        if x.norm() <= 1:\n",
    "            tocke.append(x)\n",
    "    return tocke"
   ]
  },
  {
   "cell_type": "code",
   "execution_count": 4,
   "metadata": {
    "collapsed": false
   },
   "outputs": [
   ],
   "source": [
    "def generiranje_tock_enakostranicni_trikotnik(n):\n",
    "    # funkcija naključno generira 2n točk v enakostraničnem trikotniku\n",
    "\n",
    "    V = RDF^2 # vektorski prostor R^2\n",
    "    A = Matrix([[1, 1/2], [0, sqrt(3)/2]]) # linearna preslikava\n",
    "    b = V([1/2, sqrt(3)/6]) # premik, da bo središče trikotnika v izhodišču\n",
    "    ee = V([1, 1]) # vektor za preslikovanje pod x+y = 1\n",
    "\n",
    "    tocke = [A*(v if sum(v) < 1 else ee-v) - b for _ in range(2*n) for v in [V.random_element(min=0, max=1)]]\n",
    "    return tocke"
   ]
  },
  {
   "cell_type": "code",
   "execution_count": 5,
   "metadata": {
    "collapsed": false
   },
   "outputs": [
   ],
   "source": [
    "def graf(n, generiranje_tock, norma=2):\n",
    "    # funkcija iz naključno generiranih točk ustvari poln graf\n",
    "\n",
    "    tocke = generiranje_tock(n)\n",
    "    G = graphs.CompleteGraph(len(tocke))\n",
    "\n",
    "    for u, v in G.edges(labels=False, sort = False):\n",
    "        G.set_edge_label(u, v, (tocke[u] - tocke[v]).norm(norma)) # uteži na povezavah so odvisne od razdalj med točkami\n",
    "    return G"
   ]
  },
  {
   "cell_type": "code",
   "execution_count": 6,
   "metadata": {
    "collapsed": false
   },
   "outputs": [
   ],
   "source": [
    "def dvobarven_graf(n, generiranje_tock, norma=2):\n",
    "    # funkcija iz naključno generiranih točk ustvari poln dvodelni graf\n",
    "\n",
    "    tocke = generiranje_tock(n)\n",
    "    G = graphs.CompleteBipartiteGraph(n, n)\n",
    "\n",
    "    for u, v in G.edges(labels=False, sort = False):\n",
    "        G.set_edge_label(u, v, (tocke[u] - tocke[v]).norm(norma)) # uteži na povezavah so odvisne od razdalj med točkami\n",
    "\n",
    "    return G"
   ]
  },
  {
   "cell_type": "code",
   "execution_count": 7,
   "metadata": {
    "collapsed": false
   },
   "outputs": [
   ],
   "source": [
    "def graf_izris(G):\n",
    "    # funkcija nariše graf G\n",
    "\n",
    "    H = Graph([(*e, N(w, digits=2)) for *e, w in G.edges(labels=True, sort = False)])\n",
    "    H.set_pos(G.get_pos())\n",
    "\n",
    "    return H.plot(edge_labels=True)"
   ]
  },
  {
   "cell_type": "code",
   "execution_count": 8,
   "metadata": {
    "collapsed": false
   },
   "outputs": [
   ],
   "source": [
    "def clp(G):\n",
    "    # funkcija izpiše pare vozlišč med katerimi so povezave v najcenejšem prirejanju M, vsoto cen povezav in nariše graf\n",
    "\n",
    "    p = MixedIntegerLinearProgram(maximization=False)\n",
    "    b = p.new_variable(binary=True)\n",
    "    p.set_objective(sum([w * b[Set(e)] for *e, w in G.edges(labels=True, sort = False)])) # upoštevamo uteži povezav\n",
    "\n",
    "    for v in G: # tukaj nas uteži ne zanimajo\n",
    "        p.add_constraint(sum([b[Set(e)] for e in G.edges_incident(v, labels=False)]) == 1)\n",
    "\n",
    "    cena = p.solve() # vrne vrednost ciljne funkcije\n",
    "    b = p.get_values(b)\n",
    "\n",
    "    M = [tuple(e) for e, i in b.items() if i]\n",
    "    print(M)\n",
    "\n",
    "    # vrne cene povezav v M\n",
    "    x = [w for *e, w in G.edges(sort = False) if tuple(e) in M] # seznam cen povezav v M\n",
    "    print(sum(x))\n",
    "\n",
    "    # izrisovanje\n",
    "    H = Graph([(*e, N(w, digits=2)) for *e, w in G.edges(labels=True, sort = False)])\n",
    "    H.set_pos(G.get_pos())\n",
    "\n",
    "    return H.plot(edge_colors={\"red\": M}, edge_labels=True) # graf H z rdeče pobarvanimi povezavami iz prirejanja"
   ]
  },
  {
   "cell_type": "code",
   "execution_count": 9,
   "metadata": {
    "collapsed": false
   },
   "outputs": [
   ],
   "source": [
    "def clp_vsota_in_cas(G):\n",
    "    # funkcija reši clp in vrne minimalno vsoto ter čas ki ga porabi za reševanje clp\n",
    "    p = MixedIntegerLinearProgram(maximization=False)\n",
    "    b = p.new_variable(binary=True)\n",
    "    p.set_objective(sum([w * b[Set(e)] for *e, w in G.edges(labels=True, sort = False)])) # upoštevamo uteži povezav\n",
    "\n",
    "    start = time.time()\n",
    "    for v in G: # tukaj nas uteži ne zanimajo\n",
    "        p.add_constraint(sum([b[Set(e)] for e in G.edges_incident(v, labels=False)]) == 1)\n",
    "\n",
    "    cena = p.solve() # vrne vrednost ciljne funkcije\n",
    "    end = time.time()\n",
    "\n",
    "    b = p.get_values(b)\n",
    "\n",
    "    M = [tuple(e) for e, i in b.items() if i]\n",
    "\n",
    "    # vrne cene povezav v M\n",
    "    x = [w for *e, w in G.edges(sort = False) if tuple(e) in M] # seznam cen povezav v M\n",
    "\n",
    "    return sum(x), end-start"
   ]
  },
  {
   "cell_type": "code",
   "execution_count": 21,
   "metadata": {
    "collapsed": false
   },
   "outputs": [
   ],
   "source": [
    "def vec_ponovitev(n, lik, stevilo_ponovitev, graf=graf, norma=2):\n",
    "    vsota = []\n",
    "    cas = []\n",
    "    for i in range(stevilo_ponovitev):\n",
    "        x = clp_vsota_in_cas(graf(n, lik, norma))\n",
    "        vsota.append(x[0])\n",
    "        cas.append(x[1])\n",
    "    return vsota, cas"
   ]
  },
  {
   "cell_type": "code",
   "execution_count": 28,
   "metadata": {
    "collapsed": false
   },
   "outputs": [
   ],
   "source": [
    "def zapis_podatkov(m, n, lik, stevilo_ponovitev, naslov_vsota, naslov_cas=None, graf=graf, norma=2):\n",
    "    podatki_vsota = []\n",
    "    podatki_cas = []\n",
    "    for i in range(m, n+1):\n",
    "        x = vec_ponovitev(i, lik, stevilo_ponovitev, graf, norma)\n",
    "        podatki_vsota.append(x[0])\n",
    "        podatki_cas.append(x[1])\n",
    "\n",
    "    C = podatki_vsota\n",
    "    with open(naslov_vsota, 'w') as f:\n",
    "        c = csv.writer(f)\n",
    "        c.writerows(C)\n",
    "    if naslov_cas != None:\n",
    "        C = podatki_cas\n",
    "        with open(naslov_cas, 'w') as f:\n",
    "            c = csv.writer(f)\n",
    "            c.writerows(C)"
   ]
  },
  {
   "cell_type": "code",
   "execution_count": 33,
   "metadata": {
    "collapsed": false
   },
   "outputs": [
   ],
   "source": [
    "# minimalne vsote in časovna zahtevnost najcenejšega prirejanja za različne n v navadnem polnem grafu in dvodelnem polnem grafu, 10 ponovitev\n",
    "zapis_podatkov(1, 40, generiranje_tock_kvadrat, 10, 'n_od_1_do_40_vsota', 'n_od_1_do_40_cas')\n",
    "zapis_podatkov(1, 40, generiranje_tock_kvadrat, 10, 'n_od_1_do_40_vsota_dvodelni_graf','n_od_1_do_40_cas_dvodelni_graf', dvobarven_graf)"
   ]
  },
  {
   "cell_type": "code",
   "execution_count": 29,
   "metadata": {
    "collapsed": false
   },
   "outputs": [
   ],
   "source": [
    "# primerjava po območjih izbire točk: enotski kvadrat, enotski krog, enakostranični trikotnik\n",
    "zapis_podatkov(1, 10, generiranje_tock_kvadrat, 50, 'n_od_1_do_10_primerjava_liki_kvadrat')\n",
    "zapis_podatkov(1, 10, generiranje_tock_krog, 50, 'n_od_1_do_10_primerjava_liki_krog')\n",
    "zapis_podatkov(1, 10, generiranje_tock_enakostranicni_trikotnik, 50, 'n_od_1_do_10_primerjava_liki_enakostranicni_trikotnik')"
   ]
  },
  {
   "cell_type": "code",
   "execution_count": 30,
   "metadata": {
    "collapsed": false
   },
   "outputs": [
   ],
   "source": [
    "# primerjava po območjih izbire točk dvodelni graf\n",
    "zapis_podatkov(1, 10, generiranje_tock_kvadrat, 50, 'n_od_1_do_10_primerjava_liki_dvodelni_graf_kvadrat', None, dvobarven_graf)\n",
    "zapis_podatkov(1, 10, generiranje_tock_krog, 50, 'n_od_1_do_10_primerjava_liki_dvodelni_graf_krog', None, dvobarven_graf)\n",
    "zapis_podatkov(1, 10, generiranje_tock_enakostranicni_trikotnik, 50, 'n_od_1_do_10_primerjava_liki_dvodelni_graf_enakostranicni_trikotnik', None, dvobarven_graf)"
   ]
  },
  {
   "cell_type": "code",
   "execution_count": 31,
   "metadata": {
    "collapsed": false
   },
   "outputs": [
   ],
   "source": [
    "# primerjava po normah\n",
    "zapis_podatkov(1,10, generiranje_tock_kvadrat, 50, 'n_od_1_do_10_primerjava_norme_1', None, graf, 1)\n",
    "zapis_podatkov(1,10, generiranje_tock_kvadrat, 50, 'n_od_1_do_10_primerjava_norme_2', None, graf, 2)\n",
    "zapis_podatkov(1,10, generiranje_tock_kvadrat, 50, 'n_od_1_do_10_primerjava_norme_Inf', None, graf, Infinity)"
   ]
  },
  {
   "cell_type": "code",
   "execution_count": 32,
   "metadata": {
    "collapsed": false
   },
   "outputs": [
   ],
   "source": [
    "# natančnejši izračun pričakovane vrednosti (500 ponovitev) za n=3,4,5, kvadrat, poln graf, 2-norma\n",
    "zapis_podatkov(3,5, generiranje_tock_kvadrat, 500, 'n_od_3_do_5_vsota')"
   ]
  },
  {
   "cell_type": "code",
   "execution_count": 0,
   "metadata": {
    "collapsed": false
   },
   "outputs": [
   ],
   "source": [
    "# minimalne vsote in časovna zahtevnost najcenejšega prirejanja za večje n v navadnem polnem grafu in dvodelnem polnem grafu\n",
    "zapis_podatkov(100, 100, generiranje_tock_kvadrat, 20, 'n_je_100_vsota', 'n_je_100_cas')\n",
    "zapis_podatkov(1000, 1000, generiranje_tock_kvadrat, 20, 'n_je_1000_vsota', 'n_je_1000_cas')\n",
    "zapis_podatkov(10000, 10000, generiranje_tock_kvadrat, 20, 'n_je_10000_vsota', 'n_je_10000_cas')\n",
    "\n",
    "zapis_podatkov(100, 100, generiranje_tock_kvadrat, 20, 'n_je_100_vsota_dvodelni_graf', 'n_je_100_cas_dvodelni_graf', dvobarven_graf)\n",
    "zapis_podatkov(1000, 1000, generiranje_tock_kvadrat, 20, 'n_je_1000_vsota_dvodelni_graf', 'n_je_1000_cas_dvodelni_graf', dvobarven_graf)\n",
    "zapis_podatkov(10000, 10000, generiranje_tock_kvadrat, 20, 'n_je_10000_vsota_dvodelni_graf', 'n_je_10000_cas_dvodelni_graf', dvobarven_graf)"
   ]
  }
 ],
 "metadata": {
  "kernelspec": {
   "display_name": "SageMath 9.7",
   "language": "sagemath",
   "metadata": {
    "cocalc": {
     "description": "Open-source mathematical software system",
     "priority": 10,
     "url": "https://www.sagemath.org/"
    }
   },
   "name": "sage-9.7",
   "resource_dir": "/ext/jupyter/kernels/sage-9.7"
  },
  "language_info": {
   "codemirror_mode": {
    "name": "ipython",
    "version": 3
   },
   "file_extension": ".py",
   "mimetype": "text/x-python",
   "name": "python",
   "nbconvert_exporter": "python",
   "pygments_lexer": "ipython3",
   "version": "3.10.5"
  }
 },
 "nbformat": 4,
 "nbformat_minor": 4
}